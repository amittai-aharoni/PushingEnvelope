{
 "cells": [
  {
   "cell_type": "code",
   "execution_count": 1,
   "id": "initial_id",
   "metadata": {
    "collapsed": true,
    "ExecuteTime": {
     "end_time": "2024-04-29T21:31:56.443520Z",
     "start_time": "2024-04-29T21:31:56.439829Z"
    }
   },
   "outputs": [
    {
     "name": "stdout",
     "output_type": "stream",
     "text": [
      "test)\n"
     ]
    }
   ],
   "source": [
    "import polygon as pg"
   ]
  },
  {
   "cell_type": "code",
   "execution_count": null,
   "outputs": [],
   "source": [],
   "metadata": {
    "collapsed": false
   },
   "id": "b5139c8f0a0510c5"
  },
  {
   "cell_type": "markdown",
   "source": [
    "# Tasks:\n",
    "- Define union\n",
    "- Define intersection\n",
    "- Define arbitrary union\n",
    "- Define arbitrary intersection\n",
    "- Define inclusion–exclusion principle\n",
    "- Define volume\n",
    "- "
   ],
   "metadata": {
    "collapsed": false
   },
   "id": "adf05a92e43ca2be"
  }
 ],
 "metadata": {
  "kernelspec": {
   "display_name": "Python 3",
   "language": "python",
   "name": "python3"
  },
  "language_info": {
   "codemirror_mode": {
    "name": "ipython",
    "version": 2
   },
   "file_extension": ".py",
   "mimetype": "text/x-python",
   "name": "python",
   "nbconvert_exporter": "python",
   "pygments_lexer": "ipython2",
   "version": "2.7.6"
  }
 },
 "nbformat": 4,
 "nbformat_minor": 5
}
